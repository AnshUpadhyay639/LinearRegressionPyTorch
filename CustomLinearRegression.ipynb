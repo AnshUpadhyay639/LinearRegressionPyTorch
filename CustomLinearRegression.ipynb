{
  "nbformat": 4,
  "nbformat_minor": 0,
  "metadata": {
    "colab": {
      "provenance": [],
      "authorship_tag": "ABX9TyNZqUXaa6U8RXZnsfZY24Ry",
      "include_colab_link": true
    },
    "kernelspec": {
      "name": "python3",
      "display_name": "Python 3"
    },
    "language_info": {
      "name": "python"
    }
  },
  "cells": [
    {
      "cell_type": "markdown",
      "metadata": {
        "id": "view-in-github",
        "colab_type": "text"
      },
      "source": [
        "<a href=\"https://colab.research.google.com/github/AnshUpadhyay639/LinearRegressionPyTorch/blob/main/CustomLinearRegression.ipynb\" target=\"_parent\"><img src=\"https://colab.research.google.com/assets/colab-badge.svg\" alt=\"Open In Colab\"/></a>"
      ]
    },
    {
      "cell_type": "code",
      "execution_count": null,
      "metadata": {
        "colab": {
          "base_uri": "https://localhost:8080/"
        },
        "id": "XgXj844cXQqU",
        "outputId": "741334eb-bc57-4773-d53d-5c89ecef35d3"
      },
      "outputs": [
        {
          "output_type": "stream",
          "name": "stdout",
          "text": [
            "2.5.1+cu121\n"
          ]
        }
      ],
      "source": [
        "import torch #Colab already has Pytorch preinstalled in it\n",
        "import pandas as pd\n",
        "import numpy as np\n",
        "import matplotlib.pyplot as plt\n",
        "\n",
        "from torch import nn\n",
        "print(torch.__version__)"
      ]
    },
    {
      "cell_type": "code",
      "source": [
        "!nvidia-smi"
      ],
      "metadata": {
        "colab": {
          "base_uri": "https://localhost:8080/"
        },
        "id": "lrHeZtKSX6ef",
        "outputId": "477f676a-375d-4f44-8fdc-dff5af5f0d4d"
      },
      "execution_count": null,
      "outputs": [
        {
          "output_type": "stream",
          "name": "stdout",
          "text": [
            "/bin/bash: line 1: nvidia-smi: command not found\n"
          ]
        }
      ]
    },
    {
      "cell_type": "code",
      "source": [
        "#Setup Device Agnostic Code:\n",
        "device = \"cuda\" if torch.cuda.is_available() else \"cpu\"\n",
        "print(f\"Using Device: {device}\")"
      ],
      "metadata": {
        "colab": {
          "base_uri": "https://localhost:8080/"
        },
        "id": "Ixo8BLMaNhxA",
        "outputId": "b60313b9-ae89-4211-eec3-7bea0ba71be5"
      },
      "execution_count": null,
      "outputs": [
        {
          "output_type": "stream",
          "name": "stdout",
          "text": [
            "Using Device: cpu\n"
          ]
        }
      ]
    },
    {
      "cell_type": "code",
      "source": [
        "tensor = torch.tensor([[[1, 2], [3, 4]], [[5, 6], [7, 8]]])\n",
        "tensor.shape"
      ],
      "metadata": {
        "colab": {
          "base_uri": "https://localhost:8080/"
        },
        "id": "RdxTgl_1Fozs",
        "outputId": "e8049cf4-c9ae-49c5-e951-cc80fad3fdb3"
      },
      "execution_count": null,
      "outputs": [
        {
          "output_type": "execute_result",
          "data": {
            "text/plain": [
              "torch.Size([2, 2, 2])"
            ]
          },
          "metadata": {},
          "execution_count": 37
        }
      ]
    },
    {
      "cell_type": "markdown",
      "source": [
        "###Note: torch.rand() generates numbers that are strictly between 0 and 1 meanwhile torch.randn() generates numbers that can be positive or negative and are centered around 0."
      ],
      "metadata": {
        "id": "GPjchE7XDiCv"
      }
    },
    {
      "cell_type": "code",
      "source": [
        "random = torch.rand(2,2,2,dtype=torch.float64) #Creating a random Tensor with giving the input shape and dtype optional\n",
        "random"
      ],
      "metadata": {
        "colab": {
          "base_uri": "https://localhost:8080/"
        },
        "id": "283Az93bSEPq",
        "outputId": "dbf56c78-dab5-49f2-8dad-e0af3955da20"
      },
      "execution_count": null,
      "outputs": [
        {
          "output_type": "execute_result",
          "data": {
            "text/plain": [
              "tensor([[[0.0582, 0.0629],\n",
              "         [0.1236, 0.0526]],\n",
              "\n",
              "        [[0.5262, 0.4768],\n",
              "         [0.9552, 0.9288]]], dtype=torch.float64)"
            ]
          },
          "metadata": {},
          "execution_count": 38
        }
      ]
    },
    {
      "cell_type": "code",
      "source": [
        "tensor = torch.randn(1, requires_grad = True, dtype=torch.float) #Creating a random Tensor with giving the input shape and dtype optional\n",
        "tensor"
      ],
      "metadata": {
        "colab": {
          "base_uri": "https://localhost:8080/"
        },
        "id": "m5mHpkTpI4Ph",
        "outputId": "60874784-0269-48d2-b6f7-ba601a28daca"
      },
      "execution_count": null,
      "outputs": [
        {
          "output_type": "execute_result",
          "data": {
            "text/plain": [
              "tensor([0.4617], requires_grad=True)"
            ]
          },
          "metadata": {},
          "execution_count": 39
        }
      ]
    },
    {
      "cell_type": "markdown",
      "source": [
        "###Creating some known data using Linear Regression Formula ( y = mx + c) to make a st. line with known parameters where m = weight and c = bias. Aim is to get the model to learn the relationship between X and Y as it does not know the formula. We give the model an random data in the form of X and it calculates Y itself and learns the relationship between them."
      ],
      "metadata": {
        "id": "jiorulR97xpQ"
      }
    },
    {
      "cell_type": "code",
      "source": [
        "#Creating known parameters:\n",
        "weight = 0.7\n",
        "bias = 0.3\n",
        "\n",
        "#Creating random input data:\n",
        "start = 0\n",
        "end = 1\n",
        "step = 0.02\n",
        "\n",
        "X = torch.arange(start, end, step).unsqueeze(1) # X stores the Quentions/Data && Y stores the Answers/Labels\n",
        "Y = weight * X + bias\n",
        "print(f\"Input numbers: {X[:10]}, Output numbers: {Y[:10]}\")"
      ],
      "metadata": {
        "colab": {
          "base_uri": "https://localhost:8080/"
        },
        "id": "OubjfmLp746b",
        "outputId": "7be4573a-ba64-4a7d-cf5c-2fd5855e6795"
      },
      "execution_count": null,
      "outputs": [
        {
          "output_type": "stream",
          "name": "stdout",
          "text": [
            "Input numbers: tensor([[0.0000],\n",
            "        [0.0200],\n",
            "        [0.0400],\n",
            "        [0.0600],\n",
            "        [0.0800],\n",
            "        [0.1000],\n",
            "        [0.1200],\n",
            "        [0.1400],\n",
            "        [0.1600],\n",
            "        [0.1800]]), Output numbers: tensor([[0.3000],\n",
            "        [0.3140],\n",
            "        [0.3280],\n",
            "        [0.3420],\n",
            "        [0.3560],\n",
            "        [0.3700],\n",
            "        [0.3840],\n",
            "        [0.3980],\n",
            "        [0.4120],\n",
            "        [0.4260]])\n"
          ]
        }
      ]
    },
    {
      "cell_type": "code",
      "source": [
        "len(X), len(Y)"
      ],
      "metadata": {
        "colab": {
          "base_uri": "https://localhost:8080/"
        },
        "id": "YHiqvHZZ9f7q",
        "outputId": "b528c2f6-9bd3-4a5d-e8f0-19736becd65c"
      },
      "execution_count": null,
      "outputs": [
        {
          "output_type": "execute_result",
          "data": {
            "text/plain": [
              "(50, 50)"
            ]
          },
          "metadata": {},
          "execution_count": 41
        }
      ]
    },
    {
      "cell_type": "code",
      "source": [
        "#Create train/test split:\n",
        "\n",
        "train_split = int(0.8 * len(X))             #80% of X -->means--> 80/100 or 0.8\n",
        "X_train = X[:train_split]                   #Contains the first 40(80% of 50 = 40) elements from the start (Starting 40 Qtns)\n",
        "Y_train = Y[:train_split]                   #Same for Y as 80% of both (X and Y) is given to the model to learn the Question and Answers. (Starting 40 Ans)\n",
        "X_test = X[train_split:]                    #Contains the last 10(20% of 50 = 10) elements from the 'train_split'\n",
        "Y_test = Y[train_split:]                    #same as above\n",
        "\n",
        "len(X_train), len(Y_train), len(X_test), len(Y_test)"
      ],
      "metadata": {
        "colab": {
          "base_uri": "https://localhost:8080/"
        },
        "id": "8nA-QkmM-T03",
        "outputId": "332fbb47-0053-40c2-af92-83a84ef24e73"
      },
      "execution_count": null,
      "outputs": [
        {
          "output_type": "execute_result",
          "data": {
            "text/plain": [
              "(40, 40, 10, 10)"
            ]
          },
          "metadata": {},
          "execution_count": 42
        }
      ]
    },
    {
      "cell_type": "code",
      "source": [
        "X_train.squeeze(1), X_test"
      ],
      "metadata": {
        "colab": {
          "base_uri": "https://localhost:8080/"
        },
        "id": "CtcQofqdEOFV",
        "outputId": "829068e9-607e-4fa4-f67f-d977d659bf1c"
      },
      "execution_count": null,
      "outputs": [
        {
          "output_type": "execute_result",
          "data": {
            "text/plain": [
              "(tensor([0.0000, 0.0200, 0.0400, 0.0600, 0.0800, 0.1000, 0.1200, 0.1400, 0.1600,\n",
              "         0.1800, 0.2000, 0.2200, 0.2400, 0.2600, 0.2800, 0.3000, 0.3200, 0.3400,\n",
              "         0.3600, 0.3800, 0.4000, 0.4200, 0.4400, 0.4600, 0.4800, 0.5000, 0.5200,\n",
              "         0.5400, 0.5600, 0.5800, 0.6000, 0.6200, 0.6400, 0.6600, 0.6800, 0.7000,\n",
              "         0.7200, 0.7400, 0.7600, 0.7800]),\n",
              " tensor([[0.8000],\n",
              "         [0.8200],\n",
              "         [0.8400],\n",
              "         [0.8600],\n",
              "         [0.8800],\n",
              "         [0.9000],\n",
              "         [0.9200],\n",
              "         [0.9400],\n",
              "         [0.9600],\n",
              "         [0.9800]]))"
            ]
          },
          "metadata": {},
          "execution_count": 43
        }
      ]
    },
    {
      "cell_type": "markdown",
      "source": [
        "###Data Visualization in the form of graphs:"
      ],
      "metadata": {
        "id": "ietHNs9OIrOn"
      }
    },
    {
      "cell_type": "code",
      "source": [
        "def plot_predictions(traindata = X_train, trainlabels = Y_train, testdata = X_test, testlabels = Y_test, predictions = None): #Assigning default values which can also be overwritten by calling the same func with diff params\n",
        "  #Create an empty new figure\n",
        "  plt.figure(figsize = (10,7)) #(Width, Height)\n",
        "\n",
        "  plt.xlabel(\"X-axis\",fontsize=12)\n",
        "  plt.ylabel(\"Y-axis\",fontsize=12)\n",
        "\n",
        "  plt.scatter(traindata,trainlabels, c = \"b\", s = 10, label = \"Training Data\") #Scatter(X-axis, Y-axis, color, size, name)\n",
        "\n",
        "  plt.scatter(testdata, testlabels, c=\"g\", s = 5, label = \"Testing Data\") #Rest 10% of the line\n",
        "\n",
        "  if predictions is not None:\n",
        "    plt.scatter(testdata, predictions, c=\"r\", s=5, label = \"Predictions\")\n",
        "\n",
        "  plt.legend(prop={\"size\" : 20}) #Legend describes about the color and the label name in a small box for EZ understanding (prop ->properties)"
      ],
      "metadata": {
        "id": "bHZVE6xyIyVb"
      },
      "execution_count": null,
      "outputs": []
    },
    {
      "cell_type": "code",
      "source": [
        "plot_predictions() #St. line because of 'Y = mX + C'"
      ],
      "metadata": {
        "colab": {
          "base_uri": "https://localhost:8080/",
          "height": 623
        },
        "id": "W0s0S5vMJ8xI",
        "outputId": "889af241-9853-42a0-c973-a5553b2ccc74"
      },
      "execution_count": null,
      "outputs": [
        {
          "output_type": "display_data",
          "data": {
            "text/plain": [
              "<Figure size 1000x700 with 1 Axes>"
            ],
            "image/png": "[encoded data removed]"
          },
          "metadata": {}
        }
      ]
    },
    {
      "cell_type": "markdown",
      "source": [
        "###Building our first Linear Regression Model:\n",
        "What our model does:\n",
        "1. Start with random values (weight & bias).\n",
        "\n",
        "2. Look at training data and adjust the random values to get closer to the ideal values of weight and bias (which we used to create the data).\n",
        "\n",
        "###How can we make the random values such that it makes a st. Line:\n",
        "1. *Gradient Descent Algorithm*     (Prerequisite: requires_grad = True (To record the gradients throughout))\n",
        "\n",
        "2. *Back Propagation*               (Recorded gradients of 'weights' and 'bias' are updated in this step)"
      ],
      "metadata": {
        "id": "Og-48HJJA6mJ"
      }
    },
    {
      "cell_type": "code",
      "source": [
        "class LinearRegressionModel(nn.Module):         #(Inheritance : \"nn.Module\" is the base class for all neural networks)\n",
        "  def __init__(self):                           #Constructor of base class. When defining methods inside a class, self is used to access and modify the instance variables.\n",
        "    super().__init__()                          #Calling the constructor of super/base class to make sure our class properly inherits all the necessary functionalities for it to behave like a NN.\n",
        "    self.weights = nn.Parameter(torch.randn(1, requires_grad = True, dtype = torch.float32)) #Converts a tensor to a Module parameter\n",
        "    self.bias = nn.Parameter(torch.randn(1, requires_grad = True, dtype = torch.float32)) #requires_grad = True -->ByDefault, Shape = 1 (Scalar).\n",
        "\n",
        "    #Forward Propagation function:\n",
        "  def forward(self, x: torch.Tensor) -> torch.Tensor: #This func takes input data as X (dtype = torch.Tensor) and returns a 'torch.Tensor'\n",
        "    return self.weights * x + self.bias       #Calculates 'Y' on the basis of Linear Regression Formula"
      ],
      "metadata": {
        "id": "mdtEkB7NBD58"
      },
      "execution_count": null,
      "outputs": []
    },
    {
      "cell_type": "markdown",
      "source": [
        "*def forward() - All torch.nn.Module subclasses requires you to overwrite forward() always. This method defines what happens during the forward propagation in every epoch in the neural network.\n",
        "\n",
        "*torch.optim - Contains various optimization algos which tell the nn.Parameters how to best change to improve gradient descent and in turn reduce the loss"
      ],
      "metadata": {
        "id": "pXQMmpxSYDff"
      }
    },
    {
      "cell_type": "code",
      "source": [
        "#Alternative way: Using Linear Layer/ Probing Layer/ Linear Transform/ Fully Connected Layer/ Dense Layer.\n",
        "class LinearRegressionModelV2(nn.Module):\n",
        "  def __innit__(self):\n",
        "    super().__innit__()\n",
        "    #Use nn.Linear Layer for creating and initializing parameters i.e.(wts & bias) itelf\n",
        "    self.linear_layer = nn.Linear(in_features = 1, out_features = 1) # Because 1 to 1 relationship is b/w Input value and O/P value\n",
        "\n",
        "  def forward(self, x: torch.Tensor) -> torch.Tensor:\n",
        "    return self.linear_layer(x)"
      ],
      "metadata": {
        "id": "rzwF4U27SB9q"
      },
      "execution_count": null,
      "outputs": []
    },
    {
      "cell_type": "code",
      "source": [
        "#Create a random seeds because our model parameters are also random\n",
        "torch.manual_seed(42)\n",
        "\n",
        "#Create an instance of the model (this is a subclass of nn.Module)\n",
        "model_0 = LinearRegressionModel()\n",
        "model_0"
      ],
      "metadata": {
        "colab": {
          "base_uri": "https://localhost:8080/"
        },
        "id": "GDyJaaWeZVK3",
        "outputId": "431e3820-ab64-41de-bf02-19f1c0cb4bda"
      },
      "execution_count": null,
      "outputs": [
        {
          "output_type": "execute_result",
          "data": {
            "text/plain": [
              "LinearRegressionModel()"
            ]
          },
          "metadata": {},
          "execution_count": 47
        }
      ]
    },
    {
      "cell_type": "code",
      "source": [
        "list(model_0.parameters()) #list or tuple"
      ],
      "metadata": {
        "colab": {
          "base_uri": "https://localhost:8080/"
        },
        "id": "lal-WsN0oWCg",
        "outputId": "e628d735-3a7f-4425-f878-0428acd5ba34"
      },
      "execution_count": null,
      "outputs": [
        {
          "output_type": "execute_result",
          "data": {
            "text/plain": [
              "[Parameter containing:\n",
              " tensor([0.3367], requires_grad=True),\n",
              " Parameter containing:\n",
              " tensor([0.1288], requires_grad=True)]"
            ]
          },
          "metadata": {},
          "execution_count": 48
        }
      ]
    },
    {
      "cell_type": "code",
      "source": [
        "model_0.state_dict() #Returns the state of the whole Module with named parameters"
      ],
      "metadata": {
        "colab": {
          "base_uri": "https://localhost:8080/"
        },
        "id": "C7ctXShPpM8F",
        "outputId": "f5b91d3d-75c9-4db8-e563-e0f4d27fee61"
      },
      "execution_count": null,
      "outputs": [
        {
          "output_type": "execute_result",
          "data": {
            "text/plain": [
              "OrderedDict([('weights', tensor([0.3367])), ('bias', tensor([0.1288]))])"
            ]
          },
          "metadata": {},
          "execution_count": 49
        }
      ]
    },
    {
      "cell_type": "code",
      "source": [
        "weight ,  bias # We want to bring the above weight and bias close to this one for our model to work perfectly (in this case we know the ideal values)"
      ],
      "metadata": {
        "colab": {
          "base_uri": "https://localhost:8080/"
        },
        "id": "OggZXYXIqid0",
        "outputId": "b0a07301-d336-4f2c-f669-7f89a3160e4e"
      },
      "execution_count": null,
      "outputs": [
        {
          "output_type": "execute_result",
          "data": {
            "text/plain": [
              "(0.7, 0.3)"
            ]
          },
          "metadata": {},
          "execution_count": 50
        }
      ]
    },
    {
      "cell_type": "code",
      "source": [
        "#Make predictions with Model\n",
        "y_preds = model_0(X_test)\n",
        "y_preds"
      ],
      "metadata": {
        "colab": {
          "base_uri": "https://localhost:8080/"
        },
        "id": "iDSxhlcesgzn",
        "outputId": "2b62c0e2-4580-4a71-ff4b-34fc27ede119"
      },
      "execution_count": null,
      "outputs": [
        {
          "output_type": "execute_result",
          "data": {
            "text/plain": [
              "tensor([[0.3982],\n",
              "        [0.4049],\n",
              "        [0.4116],\n",
              "        [0.4184],\n",
              "        [0.4251],\n",
              "        [0.4318],\n",
              "        [0.4386],\n",
              "        [0.4453],\n",
              "        [0.4520],\n",
              "        [0.4588]], grad_fn=<AddBackward0>)"
            ]
          },
          "metadata": {},
          "execution_count": 51
        }
      ]
    },
    {
      "cell_type": "code",
      "source": [
        "#Model predictions Without gradient tracking which saves us time in case of very large datasets\n",
        "with torch.inference_mode(): #OR torch.no_grad() //outdated\n",
        "  y_pred2 = model_0(X_test)\n",
        "\n",
        "y_pred2"
      ],
      "metadata": {
        "colab": {
          "base_uri": "https://localhost:8080/"
        },
        "id": "CW1e9HpNtgBc",
        "outputId": "ee704679-8238-42dc-b8ac-70734fc0720c"
      },
      "execution_count": null,
      "outputs": [
        {
          "output_type": "execute_result",
          "data": {
            "text/plain": [
              "tensor([[0.3982],\n",
              "        [0.4049],\n",
              "        [0.4116],\n",
              "        [0.4184],\n",
              "        [0.4251],\n",
              "        [0.4318],\n",
              "        [0.4386],\n",
              "        [0.4453],\n",
              "        [0.4520],\n",
              "        [0.4588]])"
            ]
          },
          "metadata": {},
          "execution_count": 52
        }
      ]
    },
    {
      "cell_type": "code",
      "source": [
        "Y_test #y_pred2 should be as close to this as possible"
      ],
      "metadata": {
        "colab": {
          "base_uri": "https://localhost:8080/"
        },
        "id": "-SdZZ3g5uYHX",
        "outputId": "5c04bc8d-4992-4538-e9a5-cc9ebba56811"
      },
      "execution_count": null,
      "outputs": [
        {
          "output_type": "execute_result",
          "data": {
            "text/plain": [
              "tensor([[0.8600],\n",
              "        [0.8740],\n",
              "        [0.8880],\n",
              "        [0.9020],\n",
              "        [0.9160],\n",
              "        [0.9300],\n",
              "        [0.9440],\n",
              "        [0.9580],\n",
              "        [0.9720],\n",
              "        [0.9860]])"
            ]
          },
          "metadata": {},
          "execution_count": 53
        }
      ]
    },
    {
      "cell_type": "code",
      "source": [
        "plot_predictions(predictions=y_pred2) #Initially the model predicts random values"
      ],
      "metadata": {
        "colab": {
          "base_uri": "https://localhost:8080/",
          "height": 623
        },
        "id": "YN8mh-n6t6tm",
        "outputId": "6ca6c659-1de7-4988-8d65-f8c21755db84"
      },
      "execution_count": null,
      "outputs": [
        {
          "output_type": "display_data",
          "data": {
            "text/plain": [
              "<Figure size 1000x700 with 1 Axes>"
            ],
            "image/png": "[encoded data removed]"
          },
          "metadata": {}
        }
      ]
    },
    {
      "cell_type": "code",
      "source": [
        "#Setting up a Loss Function / Cost Function / Criterion:\n",
        "Loss_fn = nn.L1Loss()   #Calculates the Mean Absolute Error (MAE): y_pred2 and y_test and then avg the diff of all the examples in it.\n",
        "                        #Such pure Math related functions are used in the case of regression problems only\n",
        "#OR\n",
        "\n",
        "MAE_loss = torch.mean(torch.abs(y_pred2 - Y_test)) #Making ur own representation of the function"
      ],
      "metadata": {
        "id": "fRCmR2VJw9FO"
      },
      "execution_count": null,
      "outputs": []
    },
    {
      "cell_type": "code",
      "source": [
        "#Setting up an Optimizer {Stochastic i.e(random) Gradient Descent} OR ADAM for gradients.\n",
        "optimizer = torch.optim.SGD(model_0.parameters(), lr = 0.01) #lr -> Learning Rate is a critical Hyperparameter"
      ],
      "metadata": {
        "id": "qwYCrNV8z-pw"
      },
      "execution_count": null,
      "outputs": []
    },
    {
      "cell_type": "markdown",
      "source": [
        "###**Learning Rate:** It controls how much the model's parameters (such as weights and biases) are adjusted during each step of the optimization process. The learning rate determines the size of the step taken in the direction of the gradient during training. If lr = 0.0001, it will effect the \"7\" from weight = 0.3367. If lr = 0.1, it will effect \"3\". If lr = 0.001, it will effect the \"6\" and so-on"
      ],
      "metadata": {
        "id": "HD6s-KN_12bd"
      }
    },
    {
      "cell_type": "code",
      "source": [
        "## Building a Training Loop:\n",
        "torch.manual_seed(42)\n",
        "epoch = 200 #Hyperparameter\n",
        "epoch_count = []\n",
        "train_losses = []\n",
        "test_losses = []\n",
        "\n",
        "for epoch in range(epoch):\n",
        "  ## Training the Model:\n",
        "  model_0.train() #Put the model in training mode (Set other layers such as Dropout and BatchNorm to True).\n",
        "\n",
        "  y_pred = model_0(X_train) #1. Forward Pass on Training DataSet.\n",
        "\n",
        "  train_loss = Loss_fn(y_pred,Y_train) #2. Calculate the Loss for Training DataSet (hence we used Y_train).\n",
        "\n",
        "  optimizer.zero_grad() #3. Initialize all the gradients to zero for next fresh computation.\n",
        "\n",
        "  train_loss.backward() #4. Perform Back Propagation on Loss w.r.t the model parameters (Gradients are computed during this step).\n",
        "\n",
        "  optimizer.step() #5. Update the parameters of the model by performing Gradient Descent.\n",
        "\n",
        "\n",
        "  ## Testing the Model:\n",
        "  model_0.eval() #Put the model in evaluation mode and disables many other settings that are not required for testing/evaluation.\n",
        "\n",
        "  with torch.inference_mode(): #Disables Gradient Calculations\n",
        "\n",
        "    test_preds = model_0(X_test) #1. Forward Pass on Testing DataSet.\n",
        "\n",
        "    test_loss = Loss_fn(test_preds, Y_test) #2. Calculate the Loss for Testing DataSet.\n",
        "\n",
        "  if epoch % 10 == 0: # Track Parameters for every 10 epochs\n",
        "    epoch_count.append(epoch)\n",
        "    train_losses.append(train_loss)\n",
        "    test_losses.append(test_loss)\n",
        "    print(f\"Epoch: {epoch} | Train Loss: {train_loss} | Test Loss: {test_loss}\")"
      ],
      "metadata": {
        "id": "Zq3mQeDw2Mqb",
        "colab": {
          "base_uri": "https://localhost:8080/"
        },
        "outputId": "e5e9469a-cc66-43f9-eb4d-28cf97060da6"
      },
      "execution_count": null,
      "outputs": [
        {
          "output_type": "stream",
          "name": "stdout",
          "text": [
            "Epoch: 0 | Train Loss: 0.31288138031959534 | Test Loss: 0.48106518387794495\n",
            "Epoch: 10 | Train Loss: 0.1976713240146637 | Test Loss: 0.3463551998138428\n",
            "Epoch: 20 | Train Loss: 0.08908725529909134 | Test Loss: 0.21729660034179688\n",
            "Epoch: 30 | Train Loss: 0.053148526698350906 | Test Loss: 0.14464017748832703\n",
            "Epoch: 40 | Train Loss: 0.04543796554207802 | Test Loss: 0.11360953003168106\n",
            "Epoch: 50 | Train Loss: 0.04167863354086876 | Test Loss: 0.09919948130846024\n",
            "Epoch: 60 | Train Loss: 0.03818932920694351 | Test Loss: 0.08886633068323135\n",
            "Epoch: 70 | Train Loss: 0.03476089984178543 | Test Loss: 0.0805937647819519\n",
            "Epoch: 80 | Train Loss: 0.03132382780313492 | Test Loss: 0.07232122868299484\n",
            "Epoch: 90 | Train Loss: 0.02788739837706089 | Test Loss: 0.06473556160926819\n",
            "Epoch: 100 | Train Loss: 0.024458957836031914 | Test Loss: 0.05646304413676262\n",
            "Epoch: 110 | Train Loss: 0.021020207554101944 | Test Loss: 0.04819049686193466\n",
            "Epoch: 120 | Train Loss: 0.01758546568453312 | Test Loss: 0.04060482233762741\n",
            "Epoch: 130 | Train Loss: 0.014155393466353416 | Test Loss: 0.03233227878808975\n",
            "Epoch: 140 | Train Loss: 0.010716589167714119 | Test Loss: 0.024059748277068138\n",
            "Epoch: 150 | Train Loss: 0.0072835334576666355 | Test Loss: 0.016474086791276932\n",
            "Epoch: 160 | Train Loss: 0.0038517764769494534 | Test Loss: 0.008201557211577892\n",
            "Epoch: 170 | Train Loss: 0.008932482451200485 | Test Loss: 0.005023092031478882\n",
            "Epoch: 180 | Train Loss: 0.008932482451200485 | Test Loss: 0.005023092031478882\n",
            "Epoch: 190 | Train Loss: 0.008932482451200485 | Test Loss: 0.005023092031478882\n"
          ]
        }
      ]
    },
    {
      "cell_type": "markdown",
      "source": [
        "###**Optimizer.zero_grad**:  It sets the gradients of all the model's parameters to zero. This is done before computing the gradients for the current batch, ensuring that old gradients from the previous training step are not mixed with the new gradients. This step is necessary because, By default, PyTorch accumulates gradients in the backward pass. Without clearing the gradients, the gradients from previous iterations will accumulate on top of the new gradients, leading to incorrect updates."
      ],
      "metadata": {
        "id": "JroZA3eknD8W"
      }
    },
    {
      "cell_type": "code",
      "source": [
        "## Making new Predictions with an Updated and Better Model\n",
        "with torch.inference_mode():\n",
        "  y_pred3 = model_0(X_test)"
      ],
      "metadata": {
        "id": "Ba8jBLK1bBCU"
      },
      "execution_count": null,
      "outputs": []
    },
    {
      "cell_type": "code",
      "source": [
        "model_0.state_dict() , print(f\"Optimal Weight :{weight} , Optimal Bias: {bias}\")"
      ],
      "metadata": {
        "colab": {
          "base_uri": "https://localhost:8080/"
        },
        "id": "FzKBiszB4Q8i",
        "outputId": "5614ee2a-35cf-472b-fbe4-956f347eddb9"
      },
      "execution_count": null,
      "outputs": [
        {
          "output_type": "stream",
          "name": "stdout",
          "text": [
            "Optimal Weight :0.7 , Optimal Bias: 0.3\n"
          ]
        },
        {
          "output_type": "execute_result",
          "data": {
            "text/plain": [
              "(OrderedDict([('weights', tensor([0.6990])), ('bias', tensor([0.3093]))]),\n",
              " None)"
            ]
          },
          "metadata": {},
          "execution_count": 59
        }
      ]
    },
    {
      "cell_type": "code",
      "source": [
        "plot_predictions(predictions=y_pred3) #We have to remove grads before putting in this func as this func uses numpy which does not know grad calculation hence requires_grad needs to be FALSE."
      ],
      "metadata": {
        "colab": {
          "base_uri": "https://localhost:8080/",
          "height": 623
        },
        "id": "o7gerkae5GNu",
        "outputId": "1c1bb9f7-703c-4b20-a18c-b7afbfb510d9"
      },
      "execution_count": null,
      "outputs": [
        {
          "output_type": "display_data",
          "data": {
            "text/plain": [
              "<Figure size 1000x700 with 1 Axes>"
            ],
            "image/png": "[encoded data removed]"
          },
          "metadata": {}
        }
      ]
    },
    {
      "cell_type": "code",
      "source": [
        "epoch_count, test_losses, epoch_count"
      ],
      "metadata": {
        "id": "sI_zubz65PJ8",
        "colab": {
          "base_uri": "https://localhost:8080/"
        },
        "outputId": "2dddfd55-f2f5-41c0-af7d-740bd2298b70"
      },
      "execution_count": null,
      "outputs": [
        {
          "output_type": "execute_result",
          "data": {
            "text/plain": [
              "([0,\n",
              "  10,\n",
              "  20,\n",
              "  30,\n",
              "  40,\n",
              "  50,\n",
              "  60,\n",
              "  70,\n",
              "  80,\n",
              "  90,\n",
              "  100,\n",
              "  110,\n",
              "  120,\n",
              "  130,\n",
              "  140,\n",
              "  150,\n",
              "  160,\n",
              "  170,\n",
              "  180,\n",
              "  190],\n",
              " [tensor(0.4811),\n",
              "  tensor(0.3464),\n",
              "  tensor(0.2173),\n",
              "  tensor(0.1446),\n",
              "  tensor(0.1136),\n",
              "  tensor(0.0992),\n",
              "  tensor(0.0889),\n",
              "  tensor(0.0806),\n",
              "  tensor(0.0723),\n",
              "  tensor(0.0647),\n",
              "  tensor(0.0565),\n",
              "  tensor(0.0482),\n",
              "  tensor(0.0406),\n",
              "  tensor(0.0323),\n",
              "  tensor(0.0241),\n",
              "  tensor(0.0165),\n",
              "  tensor(0.0082),\n",
              "  tensor(0.0050),\n",
              "  tensor(0.0050),\n",
              "  tensor(0.0050)],\n",
              " [0,\n",
              "  10,\n",
              "  20,\n",
              "  30,\n",
              "  40,\n",
              "  50,\n",
              "  60,\n",
              "  70,\n",
              "  80,\n",
              "  90,\n",
              "  100,\n",
              "  110,\n",
              "  120,\n",
              "  130,\n",
              "  140,\n",
              "  150,\n",
              "  160,\n",
              "  170,\n",
              "  180,\n",
              "  190])"
            ]
          },
          "metadata": {},
          "execution_count": 61
        }
      ]
    },
    {
      "cell_type": "code",
      "source": [
        "## Plot the Loss Curves:\n",
        "plt.plot(epoch_count, np.array(torch.tensor(train_losses).numpy()), label = \"Train Loss\") #Concerting to numpy array to avoid gradient tracking\n",
        "plt.plot(epoch_count, test_losses, label = \"Test Loss\")\n",
        "plt.title(\"Loss Curves\")\n",
        "plt.ylabel(\"Loss\")\n",
        "plt.xlabel(\"Epochs\")\n",
        "plt.legend() # The point where the line meets is the convergence point and the model is said to be reached convergence after that point."
      ],
      "metadata": {
        "colab": {
          "base_uri": "https://localhost:8080/",
          "height": 489
        },
        "id": "-AdW02xayddF",
        "outputId": "49366673-bb54-430e-9c9f-82a8d624e318"
      },
      "execution_count": null,
      "outputs": [
        {
          "output_type": "execute_result",
          "data": {
            "text/plain": [
              "<matplotlib.legend.Legend at 0x7a059e6bcf40>"
            ]
          },
          "metadata": {},
          "execution_count": 62
        },
        {
          "output_type": "display_data",
          "data": {
            "text/plain": [
              "<Figure size 640x480 with 1 Axes>"
            ],
            "image/png": "[encoded data removed]"
          },
          "metadata": {}
        }
      ]
    },
    {
      "cell_type": "code",
      "source": [
        "# Saving our Pytorch Model:\n",
        "from pathlib import Path\n",
        "\n",
        "#1. Create Model's Directory\n",
        "model_path = Path(\"models\") #Set a Directory Name\n",
        "model_path.mkdir(parents = True, exist_ok = True) #Make a new Directory with that Name\n",
        "\n",
        "#2. Create Model Save Path\n",
        "model_name = \"Pytorch_Model_0.pt\" # Extenstions can be 'pt' or 'pth'\n",
        "model_save_path = model_path / model_name #Define Path to save the model\n",
        "\n",
        "#3. Save the Model\n",
        "torch.save(model_name, model_save_path)\n",
        "\n",
        "#Or save the Model's State Dictionary only:\n",
        "torch.save(model_0.state_dict(), model_save_path)"
      ],
      "metadata": {
        "id": "qHmJXqSX4L64"
      },
      "execution_count": null,
      "outputs": []
    },
    {
      "cell_type": "code",
      "source": [
        "!ls -l models #Validating if the model is there or not"
      ],
      "metadata": {
        "colab": {
          "base_uri": "https://localhost:8080/"
        },
        "id": "yR-S-F1tBwyU",
        "outputId": "5f608a29-42a7-4a47-b9f4-17f75ce26403"
      },
      "execution_count": null,
      "outputs": [
        {
          "output_type": "stream",
          "name": "stdout",
          "text": [
            "total 4\n",
            "-rw-r--r-- 1 root root 1544 Nov 18 16:37 Pytorch_Model_0.pt\n"
          ]
        }
      ]
    },
    {
      "cell_type": "code",
      "source": [
        "## Loading our Pytorch Model\n",
        "#If only state of the model is stored then again create a new instance of the model\n",
        "loaded_model_0 = LinearRegressionModel()\n",
        "\n",
        "#Now load the saved state dict of model_0\n",
        "loaded_model_0.load_state_dict(torch.load(model_save_path))\n",
        "\n",
        "#Validating the Original states\n",
        "loaded_model_0.state_dict()"
      ],
      "metadata": {
        "id": "xf7CWjOODYIC",
        "colab": {
          "base_uri": "https://localhost:8080/"
        },
        "outputId": "7c151e59-22fd-4ae9-94de-c1b57c9a4c67"
      },
      "execution_count": null,
      "outputs": [
        {
          "output_type": "stream",
          "name": "stderr",
          "text": [
            "<ipython-input-69-6ed5cc5ab2e2>:6: FutureWarning: You are using `torch.load` with `weights_only=False` (the current default value), which uses the default pickle module implicitly. It is possible to construct malicious pickle data which will execute arbitrary code during unpickling (See https://github.com/pytorch/pytorch/blob/main/SECURITY.md#untrusted-models for more details). In a future release, the default value for `weights_only` will be flipped to `True`. This limits the functions that could be executed during unpickling. Arbitrary objects will no longer be allowed to be loaded via this mode unless they are explicitly allowlisted by the user via `torch.serialization.add_safe_globals`. We recommend you start setting `weights_only=True` for any use case where you don't have full control of the loaded file. Please open an issue on GitHub for any issues related to this experimental feature.\n",
            "  loaded_model_0.load_state_dict(torch.load(model_save_path))\n"
          ]
        },
        {
          "output_type": "execute_result",
          "data": {
            "text/plain": [
              "OrderedDict([('weights', tensor([0.6990])), ('bias', tensor([0.3093]))])"
            ]
          },
          "metadata": {},
          "execution_count": 69
        }
      ]
    },
    {
      "cell_type": "code",
      "source": [],
      "metadata": {
        "id": "dmCzsVWsJGZo"
      },
      "execution_count": null,
      "outputs": []
    }
  ]
}